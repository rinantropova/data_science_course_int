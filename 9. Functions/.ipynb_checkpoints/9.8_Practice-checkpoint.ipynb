{
 "cells": [
  {
   "cell_type": "markdown",
   "metadata": {
    "id": "I3cIqq1_avyx"
   },
   "source": [
    "# Функции. Домашнее задание\n",
    "\n",
    "В домашнем задании есть обязательные и дополнительные задачи.\n",
    "\n",
    "*Обязательные задачи* нужно сделать, чтобы проверить, что вы действительно усвоили материал модуля. Они обязательны к загрузке на проверку преподавателю.\n",
    "\n",
    "*Дополнительные задачи* для тех, кто чувствует, что нужно ещё немного потренироваться и порешать задачки по программированию. Вы также можете загрузить их на проверку преподавателю и получить по ним обратную связь.\n",
    "\n",
    "Удачи!\n"
   ]
  },
  {
   "cell_type": "markdown",
   "metadata": {
    "id": "TaxnMjUDcPku"
   },
   "source": [
    "---"
   ]
  },
  {
   "cell_type": "markdown",
   "metadata": {
    "id": "mF7WQFldayeZ"
   },
   "source": [
    "**Цели домашнего задания:**\n",
    "1. Научиться декомпозировать код с помощью функций.\n",
    "2. Попрактиковаться в использовании встроенных функций и методов.\n",
    "3. Проверить понимание и умение работать с рекурсивными функциями.\n",
    "4. Отработать обработку текстовых данных.\n",
    "\n"
   ]
  },
  {
   "cell_type": "markdown",
   "metadata": {
    "id": "qrO7Cn2EeUP9"
   },
   "source": [
    "**Что входит в домашнее задание:**\n",
    "1. *Обязательные задачи*:\n",
    "- Конвертация валют.\n",
    "- Обработка анкет.\n",
    "- Факториал.\n",
    "- Палиндром\n",
    "\n",
    "2. *Дополнительные задачи*:\n",
    "- Количество цифр в числе.\n",
    "- Количество отличников и двоечников.\n",
    "- Калькулятор.\n",
    "\n"
   ]
  },
  {
   "cell_type": "markdown",
   "metadata": {
    "id": "JyaO4C1veWzM"
   },
   "source": [
    "**Критерии оценки:**\n",
    "- программа выдаёт верный ответ на разных наборах входных данных;\n",
    "- код читабелен: переменным даны осмысленные названия, отступы и правила расстановки пробелов соблюдены;\n",
    "- код соответствует принципу DRY и декомпозирован с помощью функций.\n",
    "\n",
    "\n",
    "**Как отправить задание на проверку**\n",
    "\n",
    "Выполните задачи, сохраните изменения при помощи опции Save and Checkpoint из вкладки меню File или кнопки Save and Checkpoint на панели инструментов. Отправьте через форму на платформе итоговый файл Jupyter Notebook (в формате .ipynb) или ссылку на него."
   ]
  },
  {
   "cell_type": "markdown",
   "metadata": {
    "id": "qSDMGVxpbOMM"
   },
   "source": [
    "\n",
    "\n",
    "---\n",
    "\n",
    "\n",
    "\n",
    "---\n",
    "\n"
   ]
  },
  {
   "cell_type": "markdown",
   "metadata": {
    "id": "6m31Ptr8tFdp"
   },
   "source": [
    "**Обязательные задачи**"
   ]
  },
  {
   "cell_type": "markdown",
   "metadata": {
    "id": "1nI8YsZQ8xvq"
   },
   "source": [
    "*Задача 1. Конвертация валют*\n",
    "\n",
    "Напишите функцию `rub_to_currency`, которая переводит деньги в рублях в одну из двух валют: USD или CNY. У функции должно быть два входных параметра:\n",
    "1. `rub_amount` — деньги в рублях;\n",
    "2.  `currency` — валюта, в которую нужно совершить перевод. Если второй параметр не указан, по умолчанию следует считать его равным USD.\n",
    "\n",
    "На выходе функция должна вывести на экран, сколько рублей было дано в начале и сколько денег получилось в заданной валюте. В случае с китайским юанем также нужно вывести промежуточное значение в долларах. Если на вход в `currency` приходит невалидное значение, нужно вывести на экран сообщение: «Расчёт не может быть совершён».\n",
    "\n",
    "Декомпозируйте данную задачу на несколько функций.\n",
    "\n",
    "Проверьте, что функция `rub_to_currency` в последующих ячейках отработала верно."
   ]
  },
  {
   "cell_type": "code",
   "execution_count": 25,
   "metadata": {
    "id": "u1pxlf7BDNa4"
   },
   "outputs": [],
   "source": [
    "# Создайте вспомогательные функции для перевода в доллар и китайский юань\n",
    "# Считайте курс доллара к рублю следующим: 1USD = 70,99RUB, курс доллара к юаню: 1USD = 6,44CNY\n",
    "def rub_to_usd(rub_amount):\n",
    "    usd = 70.99\n",
    "    usd_amount = rub_amount / usd\n",
    "    return usd_amount\n",
    "\n",
    "def usd_to_cny(rub_amount):\n",
    "    usd = 6.44\n",
    "    cny_amount = rub_to_usd(rub_amount) / usd\n",
    "    return cny_amount"
   ]
  },
  {
   "cell_type": "code",
   "execution_count": 31,
   "metadata": {
    "id": "HBAVvL_-qSCC"
   },
   "outputs": [],
   "source": [
    "def rub_to_currency(rub_amount, currency='USD'):\n",
    "    # функция без return\n",
    "   \n",
    "    if currency == 'USD':\n",
    "        print(f'Before: {rub_amount}, after: {rub_to_usd(rub_amount)}')\n",
    "    elif currency == 'CNY':\n",
    "        print('Conversion to USD')\n",
    "        print(f'Before: {rub_amount}, after: {rub_to_usd(rub_amount)}')\n",
    "        print(f'Before: {rub_to_usd(rub_amount)}, after: {usd_to_cny(rub_amount)}')\n",
    "    else:\n",
    "        print('Расчёт не может быть совершён')"
   ]
  },
  {
   "cell_type": "code",
   "execution_count": 32,
   "metadata": {
    "colab": {
     "base_uri": "https://localhost:8080/"
    },
    "executionInfo": {
     "elapsed": 269,
     "status": "ok",
     "timestamp": 1634725925583,
     "user": {
      "displayName": "Евгения Миллер",
      "photoUrl": "https://lh3.googleusercontent.com/a-/AOh14Gj2X0dQicVOw3_uvDLm2AdkkDjMIUubVj8NCWQ6=s64",
      "userId": "01842992490389353651"
     },
     "user_tz": -180
    },
    "id": "Yjg-saciqofS",
    "outputId": "5e5ea18a-c24e-40cf-9c6d-e47ea90ccdca"
   },
   "outputs": [
    {
     "name": "stdout",
     "output_type": "stream",
     "text": [
      "Before: 7200, after: 101.4227355965629\n"
     ]
    }
   ],
   "source": [
    "rub_to_currency(7200, 'USD')"
   ]
  },
  {
   "cell_type": "code",
   "execution_count": 33,
   "metadata": {
    "colab": {
     "base_uri": "https://localhost:8080/"
    },
    "executionInfo": {
     "elapsed": 9,
     "status": "ok",
     "timestamp": 1634725928298,
     "user": {
      "displayName": "Евгения Миллер",
      "photoUrl": "https://lh3.googleusercontent.com/a-/AOh14Gj2X0dQicVOw3_uvDLm2AdkkDjMIUubVj8NCWQ6=s64",
      "userId": "01842992490389353651"
     },
     "user_tz": -180
    },
    "id": "Q7CjbrYeGWdV",
    "outputId": "06396061-4f2b-4424-a33c-8adf019b2350"
   },
   "outputs": [
    {
     "name": "stdout",
     "output_type": "stream",
     "text": [
      "Conversion to USD\n",
      "Before: 7200, after: 101.4227355965629\n",
      "Before: 101.4227355965629, after: 15.748871987043929\n"
     ]
    }
   ],
   "source": [
    "rub_to_currency(7200, 'CNY')"
   ]
  },
  {
   "cell_type": "code",
   "execution_count": 34,
   "metadata": {
    "colab": {
     "base_uri": "https://localhost:8080/"
    },
    "executionInfo": {
     "elapsed": 643,
     "status": "ok",
     "timestamp": 1634725942227,
     "user": {
      "displayName": "Евгения Миллер",
      "photoUrl": "https://lh3.googleusercontent.com/a-/AOh14Gj2X0dQicVOw3_uvDLm2AdkkDjMIUubVj8NCWQ6=s64",
      "userId": "01842992490389353651"
     },
     "user_tz": -180
    },
    "id": "YdeDa2mkGfx1",
    "outputId": "829e06de-c5d0-4b4b-abda-37ec5ba300a0"
   },
   "outputs": [
    {
     "name": "stdout",
     "output_type": "stream",
     "text": [
      "Расчёт не может быть совершён\n"
     ]
    }
   ],
   "source": [
    "rub_to_currency(7200, 'EUR')"
   ]
  },
  {
   "cell_type": "code",
   "execution_count": 35,
   "metadata": {
    "colab": {
     "base_uri": "https://localhost:8080/"
    },
    "executionInfo": {
     "elapsed": 932,
     "status": "ok",
     "timestamp": 1634725945130,
     "user": {
      "displayName": "Евгения Миллер",
      "photoUrl": "https://lh3.googleusercontent.com/a-/AOh14Gj2X0dQicVOw3_uvDLm2AdkkDjMIUubVj8NCWQ6=s64",
      "userId": "01842992490389353651"
     },
     "user_tz": -180
    },
    "id": "vdPKCHseAFLZ",
    "outputId": "bed0869b-53d5-4407-88d5-867fd8fde102"
   },
   "outputs": [
    {
     "name": "stdout",
     "output_type": "stream",
     "text": [
      "Before: 7200, after: 101.4227355965629\n"
     ]
    }
   ],
   "source": [
    "rub_to_currency(7200)"
   ]
  },
  {
   "cell_type": "markdown",
   "metadata": {
    "id": "1YIw6X35mR5U"
   },
   "source": [
    "*Задача 2. Обработка анкет*\n",
    "\n",
    "Вам выгрузили список с анкетами потенциальных клиентов, которые заинтересовались покупкой подписки на здоровую еду. Вам нужно обработать эти значения и сказать, какие анкеты подходят (а какие нет) для дальнейшего обзвона колл-центром.\n",
    "\n",
    "Условия, которым должна удовлетворять анкета:\n",
    "* Есть контактная информация: номер телефона.\n",
    "* Контактный номер начинается либо с восьмёрки, либо с семёрки и состоит из десяти символов.\n",
    "* Город проживания: Москва.\n",
    "\n",
    "Пример анкеты выглядит следующим образом: `name=Аня,phone=8800234 , city=москва`. Заметьте, в значениях параметров городов, имён, номеров телефонов могут встретиться лишние пробелы. Попробуйте удалить их с помощью метода `replace`.\n"
   ]
  },
  {
   "cell_type": "code",
   "execution_count": 36,
   "metadata": {
    "colab": {
     "base_uri": "https://localhost:8080/"
    },
    "executionInfo": {
     "elapsed": 354,
     "status": "ok",
     "timestamp": 1634726098579,
     "user": {
      "displayName": "Евгения Миллер",
      "photoUrl": "https://lh3.googleusercontent.com/a-/AOh14Gj2X0dQicVOw3_uvDLm2AdkkDjMIUubVj8NCWQ6=s64",
      "userId": "01842992490389353651"
     },
     "user_tz": -180
    },
    "id": "t_BdijwS72m2",
    "outputId": "78a7582a-a68f-4c79-9027-c0e04a974055"
   },
   "outputs": [
    {
     "name": "stdout",
     "output_type": "stream",
     "text": [
      "aaaa\n",
      "!!!????\n",
      "?!aaaa\n"
     ]
    }
   ],
   "source": [
    "# Метод replace заменяет все вхождения строки, указанной первым аргументом, на строку, указанную вторым аргументом\n",
    "\n",
    "# Замена восклицательного знака на пустоту\n",
    "print('!!!aaaa'.replace('!',''))\n",
    "# Замена а на вопросительный знак\n",
    "print('!!!aaaa'.replace('a','?'))\n",
    "# Замена двух восклицательных знаков на вопросительный\n",
    "print('!!!aaaa'.replace('!!','?'))"
   ]
  },
  {
   "cell_type": "code",
   "execution_count": 56,
   "metadata": {
    "id": "bQFctEmbrezu"
   },
   "outputs": [],
   "source": [
    "applications = [\n",
    "         'name=Аня,phone=8800234 ,city=москва',\n",
    "         'name=КОЛЯ,phone=8800900871 ,city=МОСКВА',\n",
    "         'name=Валентина,phone=7950900871 ,city=волгоград',\n",
    "         'name=,phone=7999901871,city=москва',\n",
    "         'name=Иван,phone=7999901871,city=москва',\n",
    "         'name=Инга,phone=,city=москва'\n",
    "\n",
    "] "
   ]
  },
  {
   "cell_type": "code",
   "execution_count": 60,
   "metadata": {
    "id": "pLEy-WBWswti"
   },
   "outputs": [],
   "source": [
    "# функция проверки валидности номера\n",
    "def check_phone(phone):\n",
    "  #Ваш код здесь\n",
    "    if len(phone) == 10 and (phone[0] == '7' or phone[0] == '8'):\n",
    "        return True\n",
    "    else:\n",
    "        return False\n",
    "\n",
    "# функция проверки города\n",
    "def check_city(city):\n",
    "  #Ваш код здесь\n",
    "    required = 'москва'\n",
    "    if required in city.lower():\n",
    "        return True\n",
    "    else:\n",
    "        return False\n",
    "\n",
    "# функция проверки одной анкеты\n",
    "def check_application(application):\n",
    "  #Ваш код здесь\n",
    "    split_app = application.split(',')\n",
    "    phone = (split_app[1].replace('phone=', '')).replace(' ', '')\n",
    "    city = (split_app[2].replace('city=', '')).replace(' ', '')\n",
    "\n",
    "    if check_phone(phone) == True and check_city(city) == True:\n",
    "        return True\n",
    "    else:\n",
    "        return False"
   ]
  },
  {
   "cell_type": "code",
   "execution_count": 61,
   "metadata": {
    "id": "Cd5SqD6cset6"
   },
   "outputs": [],
   "source": [
    "# функция проверки списка анкет\n",
    "def find_valid_applications(applications):\n",
    "  #Ваш код здесь\n",
    "    for app in applications:\n",
    "        if check_application(app) == True:\n",
    "            print(f'{app} --- True')\n",
    "        else:\n",
    "            print(f'{app} --- False')"
   ]
  },
  {
   "cell_type": "markdown",
   "metadata": {
    "id": "F8ISsSdO8hL8"
   },
   "source": [
    "Результат функции должен быть напечатан на экран в следующем виде:"
   ]
  },
  {
   "cell_type": "code",
   "execution_count": 62,
   "metadata": {
    "colab": {
     "base_uri": "https://localhost:8080/"
    },
    "executionInfo": {
     "elapsed": 262,
     "status": "ok",
     "timestamp": 1634726175008,
     "user": {
      "displayName": "Евгения Миллер",
      "photoUrl": "https://lh3.googleusercontent.com/a-/AOh14Gj2X0dQicVOw3_uvDLm2AdkkDjMIUubVj8NCWQ6=s64",
      "userId": "01842992490389353651"
     },
     "user_tz": -180
    },
    "id": "S7JfnKlE2k8n",
    "outputId": "ac071921-5f07-4b32-e8bd-0655302074ff"
   },
   "outputs": [
    {
     "name": "stdout",
     "output_type": "stream",
     "text": [
      "name=Аня,phone=8800234 ,city=москва --- False\n",
      "name=КОЛЯ,phone=8800900871 ,city=МОСКВА --- True\n",
      "name=Валентина,phone=7950900871 ,city=волгоград --- False\n",
      "name=,phone=7999901871,city=москва --- True\n",
      "name=Иван,phone=7999901871,city=москва --- True\n",
      "name=Инга,phone=,city=москва --- False\n"
     ]
    }
   ],
   "source": [
    "find_valid_applications(applications)"
   ]
  },
  {
   "cell_type": "markdown",
   "metadata": {
    "id": "c3X805npAhXG"
   },
   "source": [
    "*Задача 3. Факториал*\n",
    "\n",
    "Факториалом числа n называется произведение всех натуральных чисел от 1 до n.\n",
    "\n",
    "\n",
    "\n",
    "> n! = 1 \\* 2 \\*...\\* n\n",
    "\n",
    "> 3! = 1 \\* 2 \\* 3 = 6\n",
    "\n",
    "> 0! = 1\n",
    "\n",
    "Напишите рекурсивную функцию нахождения факториала, где входным параметром является одно единственное число — n. Проверьте, что функция в последующих ячейках отработала верно.\n",
    "\n",
    "\n",
    "\n",
    "\n",
    "\n",
    "\n",
    "\n"
   ]
  },
  {
   "cell_type": "code",
   "execution_count": 68,
   "metadata": {
    "id": "qD9afK3cC2GY"
   },
   "outputs": [],
   "source": [
    "# Ваш код здесь\n",
    "def factorial(n):\n",
    "    if n == 1:\n",
    "        return n\n",
    "    elif n == 0:\n",
    "        return 1\n",
    "    else:\n",
    "        return factorial(n-1) * n"
   ]
  },
  {
   "cell_type": "code",
   "execution_count": 69,
   "metadata": {
    "colab": {
     "base_uri": "https://localhost:8080/"
    },
    "executionInfo": {
     "elapsed": 4,
     "status": "ok",
     "timestamp": 1634726334959,
     "user": {
      "displayName": "Евгения Миллер",
      "photoUrl": "https://lh3.googleusercontent.com/a-/AOh14Gj2X0dQicVOw3_uvDLm2AdkkDjMIUubVj8NCWQ6=s64",
      "userId": "01842992490389353651"
     },
     "user_tz": -180
    },
    "id": "w1WpXrpCCta8",
    "outputId": "a7326cc4-a16d-42f8-b260-5d855a453ad2"
   },
   "outputs": [
    {
     "data": {
      "text/plain": [
       "1"
      ]
     },
     "execution_count": 69,
     "metadata": {},
     "output_type": "execute_result"
    }
   ],
   "source": [
    "factorial(1)"
   ]
  },
  {
   "cell_type": "code",
   "execution_count": 70,
   "metadata": {
    "colab": {
     "base_uri": "https://localhost:8080/"
    },
    "executionInfo": {
     "elapsed": 2,
     "status": "ok",
     "timestamp": 1634726335206,
     "user": {
      "displayName": "Евгения Миллер",
      "photoUrl": "https://lh3.googleusercontent.com/a-/AOh14Gj2X0dQicVOw3_uvDLm2AdkkDjMIUubVj8NCWQ6=s64",
      "userId": "01842992490389353651"
     },
     "user_tz": -180
    },
    "id": "5ZE9XanICvZJ",
    "outputId": "c30d3863-f1be-4044-f4cc-e10195527dcf"
   },
   "outputs": [
    {
     "data": {
      "text/plain": [
       "1"
      ]
     },
     "execution_count": 70,
     "metadata": {},
     "output_type": "execute_result"
    }
   ],
   "source": [
    "factorial(0)"
   ]
  },
  {
   "cell_type": "code",
   "execution_count": 71,
   "metadata": {
    "colab": {
     "base_uri": "https://localhost:8080/"
    },
    "executionInfo": {
     "elapsed": 4,
     "status": "ok",
     "timestamp": 1634726335491,
     "user": {
      "displayName": "Евгения Миллер",
      "photoUrl": "https://lh3.googleusercontent.com/a-/AOh14Gj2X0dQicVOw3_uvDLm2AdkkDjMIUubVj8NCWQ6=s64",
      "userId": "01842992490389353651"
     },
     "user_tz": -180
    },
    "id": "oGZg0EDkCw6H",
    "outputId": "1b99c010-088c-48f1-d47b-df3a81751de8"
   },
   "outputs": [
    {
     "data": {
      "text/plain": [
       "24"
      ]
     },
     "execution_count": 71,
     "metadata": {},
     "output_type": "execute_result"
    }
   ],
   "source": [
    "factorial(4)"
   ]
  },
  {
   "cell_type": "markdown",
   "metadata": {
    "id": "Bit-nevse14o"
   },
   "source": [
    "*Задача 4. Палиндром*\n",
    "\n",
    "Палиндромом называется такое слово (или фраза), которое слева направо и справа налево читается одинаково. Нужно написать рекурсивную функцию, которая будет возвращать `True`, если слово палиндром, и `False`, если нет.\n",
    "\n",
    "Будем считать, что пустая строка также является палиндромом.\n",
    "\n",
    "Решение должно работать на строках без знаков препинания. Проверьте, что функция в последующих ячейках отработала верно.\n",
    "\n"
   ]
  },
  {
   "cell_type": "code",
   "execution_count": 77,
   "metadata": {
    "id": "IHePFicik7Ih"
   },
   "outputs": [],
   "source": [
    "def palindrom(text):\n",
    "  # Ваш код здесь\n",
    "    clean_text = (text.replace(' ', '')).lower()\n",
    "    if len(clean_text) <= 1:\n",
    "        return True\n",
    "    elif clean_text[0] != clean_text[-1]:\n",
    "        return False\n",
    "    return palindrom(clean_text[1:-1])"
   ]
  },
  {
   "cell_type": "code",
   "execution_count": 78,
   "metadata": {
    "colab": {
     "base_uri": "https://localhost:8080/"
    },
    "executionInfo": {
     "elapsed": 240,
     "status": "ok",
     "timestamp": 1634726417021,
     "user": {
      "displayName": "Евгения Миллер",
      "photoUrl": "https://lh3.googleusercontent.com/a-/AOh14Gj2X0dQicVOw3_uvDLm2AdkkDjMIUubVj8NCWQ6=s64",
      "userId": "01842992490389353651"
     },
     "user_tz": -180
    },
    "id": "YAZcDrWRitX6",
    "outputId": "0424530f-c352-4902-b5aa-332603fefcd6"
   },
   "outputs": [
    {
     "data": {
      "text/plain": [
       "True"
      ]
     },
     "execution_count": 78,
     "metadata": {},
     "output_type": "execute_result"
    }
   ],
   "source": [
    "palindrom('saippuakivikauppias')"
   ]
  },
  {
   "cell_type": "code",
   "execution_count": 79,
   "metadata": {
    "colab": {
     "base_uri": "https://localhost:8080/"
    },
    "executionInfo": {
     "elapsed": 18,
     "status": "ok",
     "timestamp": 1634726417360,
     "user": {
      "displayName": "Евгения Миллер",
      "photoUrl": "https://lh3.googleusercontent.com/a-/AOh14Gj2X0dQicVOw3_uvDLm2AdkkDjMIUubVj8NCWQ6=s64",
      "userId": "01842992490389353651"
     },
     "user_tz": -180
    },
    "id": "mGGspj3Fivdk",
    "outputId": "47e70b6d-5b48-46dc-9f9f-75b7ad60b2d1"
   },
   "outputs": [
    {
     "data": {
      "text/plain": [
       "False"
      ]
     },
     "execution_count": 79,
     "metadata": {},
     "output_type": "execute_result"
    }
   ],
   "source": [
    "palindrom('murmur')"
   ]
  },
  {
   "cell_type": "code",
   "execution_count": 80,
   "metadata": {
    "colab": {
     "base_uri": "https://localhost:8080/"
    },
    "executionInfo": {
     "elapsed": 6,
     "status": "ok",
     "timestamp": 1634726418250,
     "user": {
      "displayName": "Евгения Миллер",
      "photoUrl": "https://lh3.googleusercontent.com/a-/AOh14Gj2X0dQicVOw3_uvDLm2AdkkDjMIUubVj8NCWQ6=s64",
      "userId": "01842992490389353651"
     },
     "user_tz": -180
    },
    "id": "5Nw0wTEPiwYV",
    "outputId": "7ee7f468-f42e-4417-faf4-a8a5262614f1"
   },
   "outputs": [
    {
     "data": {
      "text/plain": [
       "True"
      ]
     },
     "execution_count": 80,
     "metadata": {},
     "output_type": "execute_result"
    }
   ],
   "source": [
    "palindrom('В резерв')"
   ]
  },
  {
   "cell_type": "code",
   "execution_count": 81,
   "metadata": {
    "colab": {
     "base_uri": "https://localhost:8080/"
    },
    "executionInfo": {
     "elapsed": 3,
     "status": "ok",
     "timestamp": 1634726418507,
     "user": {
      "displayName": "Евгения Миллер",
      "photoUrl": "https://lh3.googleusercontent.com/a-/AOh14Gj2X0dQicVOw3_uvDLm2AdkkDjMIUubVj8NCWQ6=s64",
      "userId": "01842992490389353651"
     },
     "user_tz": -180
    },
    "id": "Kb9qX0ZDjaWu",
    "outputId": "3cd76a92-48af-48af-cdaa-038d7c219cf8"
   },
   "outputs": [
    {
     "data": {
      "text/plain": [
       "True"
      ]
     },
     "execution_count": 81,
     "metadata": {},
     "output_type": "execute_result"
    }
   ],
   "source": [
    "palindrom('Sator Arepo tenet opera rotas')"
   ]
  },
  {
   "cell_type": "markdown",
   "metadata": {
    "id": "FzHBlVyLDJCI"
   },
   "source": [
    "\n",
    "\n",
    "---\n",
    "\n",
    "\n",
    "\n",
    "---\n",
    "\n"
   ]
  },
  {
   "cell_type": "markdown",
   "metadata": {
    "id": "urJcsE1JDEjB"
   },
   "source": [
    "**Дополнительные задачи**"
   ]
  },
  {
   "cell_type": "markdown",
   "metadata": {
    "id": "VEgXwB5SH0LL"
   },
   "source": [
    "*Задача 5. Количество цифр в числе*\n",
    "\n",
    "Напишите функцию, которая рассчитывает количество цифр в целом числе, приходящем ей на вход.\n",
    "\n",
    "Рассмотрите два способа решения данной задачи: через строковые переменные и без использования строковых переменных.\n",
    "\n",
    "**Пример:**\n",
    "<br>\n",
    "Input: `n = 1234567` \n",
    "<br>\n",
    "Output: `7`"
   ]
  },
  {
   "cell_type": "code",
   "execution_count": 86,
   "metadata": {
    "id": "IOxO5n6dwPWy"
   },
   "outputs": [
    {
     "data": {
      "text/plain": [
       "7"
      ]
     },
     "execution_count": 86,
     "metadata": {},
     "output_type": "execute_result"
    }
   ],
   "source": [
    "# Ваш код здесь\n",
    "def get_digits_amount(n):\n",
    "    list_n = [int(digit) for digit in str(n)]\n",
    "    return len(list_n)\n",
    "\n",
    "get_digits_amount(1234567)\n"
   ]
  },
  {
   "cell_type": "code",
   "execution_count": 88,
   "metadata": {},
   "outputs": [
    {
     "data": {
      "text/plain": [
       "15"
      ]
     },
     "execution_count": 88,
     "metadata": {},
     "output_type": "execute_result"
    }
   ],
   "source": [
    "# another way without strings\n",
    "def digits_count(n):\n",
    "    count = 0\n",
    "    while n > 0:\n",
    "        n //= 10\n",
    "        count += 1\n",
    "    return count if count > 0 else 1\n",
    "\n",
    "digits_count(123456798765432)"
   ]
  },
  {
   "cell_type": "markdown",
   "metadata": {
    "id": "Uf-63ipMwTrs"
   },
   "source": [
    "*Задача 6. Количество отличников и двоечников*\n",
    "\n",
    "Дан список, в каждом элементе которого лежат оценки за финальный экзамен по русскому языку по одному классу. Найдите количество сдавших (оценка >= 3) и не сдавших (оценка < 3) экзамен в каждом классе, а также выведите результативность класса.\n",
    "\n",
    "Результативность класса считается по следующей логике:\n",
    "* если количество оценок 4 и 5 в классе > 95%, результативность отличная;\n",
    "* если количество оценок 4 и 5 в классе < 30%, результативность плохая;\n",
    "* в остальных случаях результативность средняя.\n",
    "\n",
    "Декомпозируйте задачу с помощью функций. Добавьте возможность менять пороги результативности с помощью входных параметров.\n"
   ]
  },
  {
   "cell_type": "code",
   "execution_count": 94,
   "metadata": {
    "id": "aVeAgJbCyJeP"
   },
   "outputs": [],
   "source": [
    "scores = [\n",
    "          [2, 4, 4, 5, 2, 3, 3, 1, 1],\n",
    "          [3, 4, 2, 3, 3, 1, 5, 2, 4],\n",
    "          [5, 3, 3, 4, 3, 2, 3, 5],\n",
    "          [4, 2, 2, 4, 2],\n",
    "          [4, 3, 3, 3, 3, 3, 3],\n",
    "          [2, 1, 5, 3, 5, 5],\n",
    "          [4, 4, 4, 4, 5, 5],\n",
    "          [4, 1, 3, 4, 1, 1],\n",
    "          [2, 2, 2, 1, 3, 4, 1]\n",
    "]"
   ]
  },
  {
   "cell_type": "code",
   "execution_count": 95,
   "metadata": {},
   "outputs": [],
   "source": [
    "def passed_exam(score):\n",
    "    count = 0\n",
    "    for i in range(len(score)):\n",
    "        if score[i] >= 3:\n",
    "            count += 1\n",
    "    return count\n",
    "\n",
    "def failed_exam(score):\n",
    "    count = 0\n",
    "    for i in range(len(score)):\n",
    "        if score[i] < 3:\n",
    "            count += 1\n",
    "    return count\n",
    "\n",
    "def summary_per_class(score):\n",
    "    summary = (passed_exam(score) / len(score)) * 100\n",
    "    if summary > 95:\n",
    "        return 'Отлично'\n",
    "    elif summary < 30:\n",
    "        return 'Плохо'\n",
    "    else:\n",
    "        return 'Удовлетворительно'\n",
    "\n",
    "\n",
    "def get_info(scores):\n",
    "    for score in scores:\n",
    "        print(f'Количество сдавших:{passed_exam(score)}, Количество проваливших:{failed_exam(score)}, Итог по классу:{summary_per_class(score)}')"
   ]
  },
  {
   "cell_type": "code",
   "execution_count": 96,
   "metadata": {
    "colab": {
     "base_uri": "https://localhost:8080/"
    },
    "executionInfo": {
     "elapsed": 908,
     "status": "ok",
     "timestamp": 1635106550941,
     "user": {
      "displayName": "Евгения Миллер",
      "photoUrl": "https://lh3.googleusercontent.com/a-/AOh14Gj2X0dQicVOw3_uvDLm2AdkkDjMIUubVj8NCWQ6=s64",
      "userId": "01842992490389353651"
     },
     "user_tz": -180
    },
    "id": "sTzCQqo336Z-",
    "outputId": "a19c62c8-456d-43eb-8cdc-b051c9e6a388"
   },
   "outputs": [
    {
     "name": "stdout",
     "output_type": "stream",
     "text": [
      "Количество сдавших:5, Количество проваливших:4, Итог по классу:Удовлетворительно\n",
      "Количество сдавших:6, Количество проваливших:3, Итог по классу:Удовлетворительно\n",
      "Количество сдавших:7, Количество проваливших:1, Итог по классу:Удовлетворительно\n",
      "Количество сдавших:2, Количество проваливших:3, Итог по классу:Удовлетворительно\n",
      "Количество сдавших:7, Количество проваливших:0, Итог по классу:Отлично\n",
      "Количество сдавших:4, Количество проваливших:2, Итог по классу:Удовлетворительно\n",
      "Количество сдавших:6, Количество проваливших:0, Итог по классу:Отлично\n",
      "Количество сдавших:3, Количество проваливших:3, Итог по классу:Удовлетворительно\n",
      "Количество сдавших:2, Количество проваливших:5, Итог по классу:Плохо\n"
     ]
    }
   ],
   "source": [
    "# Пример вывода\n",
    "get_info(scores)"
   ]
  },
  {
   "cell_type": "markdown",
   "metadata": {
    "id": "HYOZFVZ6Dz3t"
   },
   "source": [
    "*Задача 7. Калькулятор*\n",
    "\n",
    "На вход в ваш калькулятор из стандартного ввода приходит выражение, в котором есть только числа и операции сложения и умножения.\n",
    "\n",
    "Нужно написать функцию, которая обрабатывает входную строку и выдаёт результат выражения на выходе.\n",
    "\n",
    "Используйте декомпозицию с помощью функций. Проверьте, что последующие ячейки отработали верно.\n",
    "\n",
    "\n"
   ]
  },
  {
   "cell_type": "code",
   "execution_count": 109,
   "metadata": {
    "id": "HAdvG7CVBwv3"
   },
   "outputs": [],
   "source": [
    "# Ваш код здесь\n",
    "def multiplication(numbers):\n",
    "    result = 1\n",
    "    for num in numbers:\n",
    "        result *= num\n",
    "    return result\n",
    "\n",
    "def addition(numbers):\n",
    "    return sum(numbers)\n",
    "\n",
    "\n",
    "def extract_expression(expression):\n",
    "    add_parts = expression.split('+')\n",
    "    add_result = []\n",
    "    for part in add_parts:\n",
    "        mult_parts = part.split('*')\n",
    "        nums = [int(num) for num in mult_parts]\n",
    "        mult_result = multiplication(nums)\n",
    "        add_result.append(mult_result)\n",
    "        total = addition(add_result)\n",
    "    return total"
   ]
  },
  {
   "cell_type": "code",
   "execution_count": 110,
   "metadata": {
    "colab": {
     "base_uri": "https://localhost:8080/"
    },
    "executionInfo": {
     "elapsed": 399,
     "status": "ok",
     "timestamp": 1634726766991,
     "user": {
      "displayName": "Евгения Миллер",
      "photoUrl": "https://lh3.googleusercontent.com/a-/AOh14Gj2X0dQicVOw3_uvDLm2AdkkDjMIUubVj8NCWQ6=s64",
      "userId": "01842992490389353651"
     },
     "user_tz": -180
    },
    "id": "IuEVDkewAXs8",
    "outputId": "7ac5117f-cbc4-403b-b731-bb49f577e658"
   },
   "outputs": [
    {
     "data": {
      "text/plain": [
       "811"
      ]
     },
     "execution_count": 110,
     "metadata": {},
     "output_type": "execute_result"
    }
   ],
   "source": [
    "expression = '1+2*4*5+7*10*11'\n",
    "extract_expression(expression)"
   ]
  },
  {
   "cell_type": "code",
   "execution_count": 111,
   "metadata": {
    "colab": {
     "base_uri": "https://localhost:8080/"
    },
    "executionInfo": {
     "elapsed": 268,
     "status": "ok",
     "timestamp": 1634726768551,
     "user": {
      "displayName": "Евгения Миллер",
      "photoUrl": "https://lh3.googleusercontent.com/a-/AOh14Gj2X0dQicVOw3_uvDLm2AdkkDjMIUubVj8NCWQ6=s64",
      "userId": "01842992490389353651"
     },
     "user_tz": -180
    },
    "id": "e2M3A0VqAcZM",
    "outputId": "7d0bfb16-927e-4049-effb-627a1c189f7d"
   },
   "outputs": [
    {
     "data": {
      "text/plain": [
       "16"
      ]
     },
     "execution_count": 111,
     "metadata": {},
     "output_type": "execute_result"
    }
   ],
   "source": [
    "extract_expression('1+2+3+10')"
   ]
  },
  {
   "cell_type": "code",
   "execution_count": 112,
   "metadata": {
    "colab": {
     "base_uri": "https://localhost:8080/"
    },
    "executionInfo": {
     "elapsed": 4,
     "status": "ok",
     "timestamp": 1634726769460,
     "user": {
      "displayName": "Евгения Миллер",
      "photoUrl": "https://lh3.googleusercontent.com/a-/AOh14Gj2X0dQicVOw3_uvDLm2AdkkDjMIUubVj8NCWQ6=s64",
      "userId": "01842992490389353651"
     },
     "user_tz": -180
    },
    "id": "KexrzLZdCCa6",
    "outputId": "7aa32915-3993-428e-e989-ede347b722f0"
   },
   "outputs": [
    {
     "data": {
      "text/plain": [
       "20"
      ]
     },
     "execution_count": 112,
     "metadata": {},
     "output_type": "execute_result"
    }
   ],
   "source": [
    "extract_expression('1*2*10')"
   ]
  },
  {
   "cell_type": "code",
   "execution_count": null,
   "metadata": {
    "id": "IcmxuRHwCGzK"
   },
   "outputs": [],
   "source": []
  }
 ],
 "metadata": {
  "colab": {
   "collapsed_sections": [],
   "name": "9.8_Домашнее_задание.ipynb",
   "provenance": []
  },
  "kernelspec": {
   "display_name": "Python 3 (ipykernel)",
   "language": "python",
   "name": "python3"
  },
  "language_info": {
   "codemirror_mode": {
    "name": "ipython",
    "version": 3
   },
   "file_extension": ".py",
   "mimetype": "text/x-python",
   "name": "python",
   "nbconvert_exporter": "python",
   "pygments_lexer": "ipython3",
   "version": "3.11.5"
  }
 },
 "nbformat": 4,
 "nbformat_minor": 4
}
