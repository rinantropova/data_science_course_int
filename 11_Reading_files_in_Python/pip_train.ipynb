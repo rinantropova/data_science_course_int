{
 "cells": [
  {
   "cell_type": "code",
   "execution_count": 4,
   "id": "3962f828-0070-46e4-9eaa-8a8d71988681",
   "metadata": {},
   "outputs": [],
   "source": [
    "import math"
   ]
  },
  {
   "cell_type": "code",
   "execution_count": 3,
   "id": "20a82c17-afb5-47bd-990a-5d55fa10565c",
   "metadata": {},
   "outputs": [
    {
     "data": {
      "text/plain": [
       "0.0"
      ]
     },
     "execution_count": 3,
     "metadata": {},
     "output_type": "execute_result"
    }
   ],
   "source": [
    "math.sin(0)"
   ]
  },
  {
   "cell_type": "code",
   "execution_count": 4,
   "id": "4748daf0-99c8-4390-96e0-5802dc3d7c79",
   "metadata": {},
   "outputs": [
    {
     "data": {
      "text/plain": [
       "1.0"
      ]
     },
     "execution_count": 4,
     "metadata": {},
     "output_type": "execute_result"
    }
   ],
   "source": [
    "math.cos(0)"
   ]
  },
  {
   "cell_type": "code",
   "execution_count": 5,
   "id": "87f9b9de-ecfa-473b-a1f8-e70cf569fe4c",
   "metadata": {},
   "outputs": [
    {
     "data": {
      "text/plain": [
       "0.9999949269133752"
      ]
     },
     "execution_count": 5,
     "metadata": {},
     "output_type": "execute_result"
    }
   ],
   "source": [
    "math.cos(2*3.14)"
   ]
  },
  {
   "cell_type": "code",
   "execution_count": 6,
   "id": "76dc71fc-3b21-4651-a837-8f3ff3ecf826",
   "metadata": {},
   "outputs": [
    {
     "data": {
      "text/plain": [
       "1.0"
      ]
     },
     "execution_count": 6,
     "metadata": {},
     "output_type": "execute_result"
    }
   ],
   "source": [
    "math.cos(2*math.pi)"
   ]
  },
  {
   "cell_type": "code",
   "execution_count": 7,
   "id": "23d56e07-f0d6-485b-8067-7f3bfbd62d02",
   "metadata": {},
   "outputs": [
    {
     "data": {
      "text/plain": [
       "3.141592653589793"
      ]
     },
     "execution_count": 7,
     "metadata": {},
     "output_type": "execute_result"
    }
   ],
   "source": [
    "math.pi"
   ]
  },
  {
   "cell_type": "code",
   "execution_count": 1,
   "id": "7c6cd75e-a31a-43cb-a8cf-49add6590906",
   "metadata": {},
   "outputs": [
    {
     "name": "stdout",
     "output_type": "stream",
     "text": [
      "Requirement already satisfied: cowsay in c:\\users\\administrator\\anaconda3\\envs\\pythonforanalysts\\lib\\site-packages (6.1)\n"
     ]
    },
    {
     "ename": "NameError",
     "evalue": "name 'math' is not defined",
     "output_type": "error",
     "traceback": [
      "\u001b[1;31m---------------------------------------------------------------------------\u001b[0m",
      "\u001b[1;31mNameError\u001b[0m                                 Traceback (most recent call last)",
      "Cell \u001b[1;32mIn[1], line 4\u001b[0m\n\u001b[0;32m      1\u001b[0m get_ipython()\u001b[38;5;241m.\u001b[39msystem(\u001b[38;5;124m'\u001b[39m\u001b[38;5;124mpip install cowsay\u001b[39m\u001b[38;5;124m'\u001b[39m)\n\u001b[0;32m      2\u001b[0m \u001b[38;5;28;01mimport\u001b[39;00m \u001b[38;5;21;01mcowsay\u001b[39;00m\n\u001b[1;32m----> 4\u001b[0m cowsay\u001b[38;5;241m.\u001b[39mcow(\u001b[38;5;28mstr\u001b[39m(math\u001b[38;5;241m.\u001b[39mpi))\n",
      "\u001b[1;31mNameError\u001b[0m: name 'math' is not defined"
     ]
    }
   ],
   "source": [
    "!pip install cowsay\n",
    "import cowsay\n",
    "\n",
    "cowsay.cow(str(math.pi))"
   ]
  },
  {
   "cell_type": "code",
   "execution_count": 5,
   "id": "ed959c7b-9caa-410f-a075-4462ad4ef0c4",
   "metadata": {},
   "outputs": [
    {
     "name": "stderr",
     "output_type": "stream",
     "text": [
      "'pwd' is not recognized as an internal or external command,\n",
      "operable program or batch file.\n"
     ]
    }
   ],
   "source": [
    "!pwd"
   ]
  },
  {
   "cell_type": "code",
   "execution_count": 3,
   "id": "bba31abb-0672-40a8-a783-24beeb1d3299",
   "metadata": {},
   "outputs": [
    {
     "name": "stderr",
     "output_type": "stream",
     "text": [
      "'ls' is not recognized as an internal or external command,\n",
      "operable program or batch file.\n"
     ]
    }
   ],
   "source": [
    "!ls -l"
   ]
  },
  {
   "cell_type": "code",
   "execution_count": 1,
   "id": "ce379fae-cd81-430b-ac65-4cbbfc752bd0",
   "metadata": {},
   "outputs": [
    {
     "name": "stdout",
     "output_type": "stream",
     "text": [
      "^C\n"
     ]
    }
   ],
   "source": [
    "!pip uninstall cowsay"
   ]
  },
  {
   "cell_type": "code",
   "execution_count": null,
   "id": "8c263909-35e4-4a6a-8054-b509fe8b9a25",
   "metadata": {},
   "outputs": [],
   "source": []
  }
 ],
 "metadata": {
  "kernelspec": {
   "display_name": "Python 3 (ipykernel)",
   "language": "python",
   "name": "python3"
  },
  "language_info": {
   "codemirror_mode": {
    "name": "ipython",
    "version": 3
   },
   "file_extension": ".py",
   "mimetype": "text/x-python",
   "name": "python",
   "nbconvert_exporter": "python",
   "pygments_lexer": "ipython3",
   "version": "3.11.5"
  }
 },
 "nbformat": 4,
 "nbformat_minor": 5
}
